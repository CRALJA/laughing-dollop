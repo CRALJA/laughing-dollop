{
 "cells": [
  {
   "cell_type": "code",
   "execution_count": 8,
   "metadata": {},
   "outputs": [],
   "source": [
    "import json\n",
    "import csv\n",
    "import pymongo\n",
    "\n",
    "city = []\n",
    "station_dict = {}\n",
    "with open(r'C:\\Users\\Student\\Documents\\laughing-dollop\\test.csv', newline='') as file:\n",
    "    reader = csv.reader(file, delimiter=',')\n",
    "    for line in reader:\n",
    "        if line[9] != 'City':\n",
    "            if line[9] in city:\n",
    "                next\n",
    "            else:\n",
    "                city.append(line[9])\n",
    "        #print(line[9], line[0], line[5], line[1], line[2])\n",
    "for i in city:\n",
    "    station_dict['city'] = i\n",
    "\n",
    "with open(r'C:\\Users\\Student\\Documents\\laughing-dollop\\test.csv', newline='') as file:\n",
    "    reader = csv.reader(file, delimiter=',')   \n",
    "    for line in reader:\n",
    "        if line[9] in station_dict:\n",
    "            station_dict[line[9]].append({'Common name' : line[0], 'Address' : line[5], 'Longitude' : line[1], 'Latitude' : line[2]})\n",
    "        else:\n",
    "            next\n",
    "with open(r'C:\\Users\\Student\\Documents\\laughing-dollop\\stations.json', 'w') as data:\n",
    "    json.dump(station_dict, data)"
   ]
  },
  {
   "cell_type": "code",
   "execution_count": 54,
   "metadata": {
    "collapsed": true
   },
   "outputs": [
    {
     "name": "stdout",
     "output_type": "stream",
     "text": [
      "['Bangor', 'Canterbury', 'Carlisle', 'Chelmsford', 'Coventry', 'Ely', 'Exeter', 'Gloucester', 'Hereford', 'Kingston upon Hull', 'Lichfield', 'Lincoln', 'Norwich', 'Preston', 'Ripon', 'St Asaph', \"St David's\", 'Swansea', 'Truro', 'Wells', 'Worcester']\n"
     ]
    }
   ],
   "source": [
    "print(city)"
   ]
  },
  {
   "cell_type": "code",
   "execution_count": 9,
   "metadata": {},
   "outputs": [
    {
     "data": {
      "text/plain": [
       "{'city': 'Worcester'}"
      ]
     },
     "execution_count": 9,
     "metadata": {},
     "output_type": "execute_result"
    }
   ],
   "source": [
    "station_dict"
   ]
  },
  {
   "cell_type": "code",
   "execution_count": 3,
   "metadata": {
    "collapsed": true
   },
   "outputs": [],
   "source": [
    "con = pymongo.MongoClient(\"mongodb://localhost\")"
   ]
  },
  {
   "cell_type": "code",
   "execution_count": 4,
   "metadata": {},
   "outputs": [],
   "source": [
    "db = con.uber\n",
    "s = db.stations"
   ]
  },
  {
   "cell_type": "code",
   "execution_count": 5,
   "metadata": {},
   "outputs": [],
   "source": [
    "s1 = s.find()\n",
    "for i in s1:\n",
    "    print(i)"
   ]
  },
  {
   "cell_type": "code",
   "execution_count": 114,
   "metadata": {},
   "outputs": [
    {
     "ename": "TypeError",
     "evalue": "unhashable type: 'list'",
     "output_type": "error",
     "traceback": [
      "\u001b[1;31m---------------------------------------------------------------------------\u001b[0m",
      "\u001b[1;31mTypeError\u001b[0m                                 Traceback (most recent call last)",
      "\u001b[1;32m<ipython-input-114-401f67a8faeb>\u001b[0m in \u001b[0;36m<module>\u001b[1;34m()\u001b[0m\n\u001b[0;32m      1\u001b[0m \u001b[1;32mfor\u001b[0m \u001b[0mi\u001b[0m \u001b[1;32min\u001b[0m \u001b[0mcity\u001b[0m\u001b[1;33m:\u001b[0m\u001b[1;33m\u001b[0m\u001b[0m\n\u001b[1;32m----> 2\u001b[1;33m     \u001b[1;32mfor\u001b[0m \u001b[0mj\u001b[0m \u001b[1;32min\u001b[0m \u001b[0mstation_dict\u001b[0m\u001b[1;33m.\u001b[0m\u001b[0mget\u001b[0m\u001b[1;33m(\u001b[0m\u001b[0mcity\u001b[0m\u001b[1;33m)\u001b[0m\u001b[1;33m:\u001b[0m\u001b[1;33m\u001b[0m\u001b[0m\n\u001b[0m\u001b[0;32m      3\u001b[0m         \u001b[0ms\u001b[0m\u001b[1;33m.\u001b[0m\u001b[0minsert_one\u001b[0m\u001b[1;33m(\u001b[0m\u001b[1;33m{\u001b[0m\u001b[0mcity\u001b[0m \u001b[1;33m:\u001b[0m \u001b[0mj\u001b[0m\u001b[1;33m}\u001b[0m\u001b[1;33m)\u001b[0m\u001b[1;33m\u001b[0m\u001b[0m\n",
      "\u001b[1;31mTypeError\u001b[0m: unhashable type: 'list'"
     ]
    }
   ],
   "source": [
    "for i in city:\n",
    "    for j in station_dict.get(city):\n",
    "        s.insert_one({city : j})"
   ]
  },
  {
   "cell_type": "code",
   "execution_count": 87,
   "metadata": {},
   "outputs": [
    {
     "data": {
      "text/plain": [
       "dict"
      ]
     },
     "execution_count": 87,
     "metadata": {},
     "output_type": "execute_result"
    }
   ],
   "source": [
    "type(station_dict)"
   ]
  },
  {
   "cell_type": "code",
   "execution_count": 119,
   "metadata": {},
   "outputs": [
    {
     "data": {
      "text/plain": [
       "{'Address': 'Holyhead Road',\n",
       " 'Common name': 'Morrisons',\n",
       " 'Latitude': '53.225851617',\n",
       " 'Longitude': '-4.1348890524'}"
      ]
     },
     "execution_count": 119,
     "metadata": {},
     "output_type": "execute_result"
    }
   ],
   "source": [
    "station_dict.get('Bangor')[1]"
   ]
  },
  {
   "cell_type": "code",
   "execution_count": 135,
   "metadata": {},
   "outputs": [
    {
     "ename": "JSONDecodeError",
     "evalue": "Expecting value: line 1 column 1 (char 0)",
     "output_type": "error",
     "traceback": [
      "\u001b[1;31m---------------------------------------------------------------------------\u001b[0m",
      "\u001b[1;31mJSONDecodeError\u001b[0m                           Traceback (most recent call last)",
      "\u001b[1;32m<ipython-input-135-ea4f303208d3>\u001b[0m in \u001b[0;36m<module>\u001b[1;34m()\u001b[0m\n\u001b[0;32m      1\u001b[0m \u001b[1;31m#page = open(r'C:\\Users\\Student\\Documents\\laughing-dollop\\stations.txt')\u001b[0m\u001b[1;33m\u001b[0m\u001b[1;33m\u001b[0m\u001b[0m\n\u001b[1;32m----> 2\u001b[1;33m \u001b[0mparsed\u001b[0m \u001b[1;33m=\u001b[0m \u001b[0mjson\u001b[0m\u001b[1;33m.\u001b[0m\u001b[0mloads\u001b[0m\u001b[1;33m(\u001b[0m\u001b[0mpage\u001b[0m\u001b[1;33m.\u001b[0m\u001b[0mread\u001b[0m\u001b[1;33m(\u001b[0m\u001b[1;33m)\u001b[0m\u001b[1;33m)\u001b[0m\u001b[1;33m\u001b[0m\u001b[0m\n\u001b[0m\u001b[0;32m      3\u001b[0m \u001b[1;31m#for i in city:\u001b[0m\u001b[1;33m\u001b[0m\u001b[1;33m\u001b[0m\u001b[0m\n\u001b[0;32m      4\u001b[0m \u001b[1;32mfor\u001b[0m \u001b[0mitem\u001b[0m \u001b[1;32min\u001b[0m \u001b[0mparsed\u001b[0m\u001b[1;33m[\u001b[0m\u001b[1;34m'Bangor'\u001b[0m\u001b[1;33m]\u001b[0m\u001b[1;33m:\u001b[0m\u001b[1;33m\u001b[0m\u001b[0m\n\u001b[0;32m      5\u001b[0m        \u001b[0ms\u001b[0m\u001b[1;33m.\u001b[0m\u001b[0minsert_one\u001b[0m\u001b[1;33m(\u001b[0m\u001b[0mitem\u001b[0m\u001b[1;33m)\u001b[0m\u001b[1;33m\u001b[0m\u001b[0m\n",
      "\u001b[1;32m~\\Anaconda3\\lib\\json\\__init__.py\u001b[0m in \u001b[0;36mloads\u001b[1;34m(s, encoding, cls, object_hook, parse_float, parse_int, parse_constant, object_pairs_hook, **kw)\u001b[0m\n\u001b[0;32m    352\u001b[0m             \u001b[0mparse_int\u001b[0m \u001b[1;32mis\u001b[0m \u001b[1;32mNone\u001b[0m \u001b[1;32mand\u001b[0m \u001b[0mparse_float\u001b[0m \u001b[1;32mis\u001b[0m \u001b[1;32mNone\u001b[0m \u001b[1;32mand\u001b[0m\u001b[1;33m\u001b[0m\u001b[0m\n\u001b[0;32m    353\u001b[0m             parse_constant is None and object_pairs_hook is None and not kw):\n\u001b[1;32m--> 354\u001b[1;33m         \u001b[1;32mreturn\u001b[0m \u001b[0m_default_decoder\u001b[0m\u001b[1;33m.\u001b[0m\u001b[0mdecode\u001b[0m\u001b[1;33m(\u001b[0m\u001b[0ms\u001b[0m\u001b[1;33m)\u001b[0m\u001b[1;33m\u001b[0m\u001b[0m\n\u001b[0m\u001b[0;32m    355\u001b[0m     \u001b[1;32mif\u001b[0m \u001b[0mcls\u001b[0m \u001b[1;32mis\u001b[0m \u001b[1;32mNone\u001b[0m\u001b[1;33m:\u001b[0m\u001b[1;33m\u001b[0m\u001b[0m\n\u001b[0;32m    356\u001b[0m         \u001b[0mcls\u001b[0m \u001b[1;33m=\u001b[0m \u001b[0mJSONDecoder\u001b[0m\u001b[1;33m\u001b[0m\u001b[0m\n",
      "\u001b[1;32m~\\Anaconda3\\lib\\json\\decoder.py\u001b[0m in \u001b[0;36mdecode\u001b[1;34m(self, s, _w)\u001b[0m\n\u001b[0;32m    337\u001b[0m \u001b[1;33m\u001b[0m\u001b[0m\n\u001b[0;32m    338\u001b[0m         \"\"\"\n\u001b[1;32m--> 339\u001b[1;33m         \u001b[0mobj\u001b[0m\u001b[1;33m,\u001b[0m \u001b[0mend\u001b[0m \u001b[1;33m=\u001b[0m \u001b[0mself\u001b[0m\u001b[1;33m.\u001b[0m\u001b[0mraw_decode\u001b[0m\u001b[1;33m(\u001b[0m\u001b[0ms\u001b[0m\u001b[1;33m,\u001b[0m \u001b[0midx\u001b[0m\u001b[1;33m=\u001b[0m\u001b[0m_w\u001b[0m\u001b[1;33m(\u001b[0m\u001b[0ms\u001b[0m\u001b[1;33m,\u001b[0m \u001b[1;36m0\u001b[0m\u001b[1;33m)\u001b[0m\u001b[1;33m.\u001b[0m\u001b[0mend\u001b[0m\u001b[1;33m(\u001b[0m\u001b[1;33m)\u001b[0m\u001b[1;33m)\u001b[0m\u001b[1;33m\u001b[0m\u001b[0m\n\u001b[0m\u001b[0;32m    340\u001b[0m         \u001b[0mend\u001b[0m \u001b[1;33m=\u001b[0m \u001b[0m_w\u001b[0m\u001b[1;33m(\u001b[0m\u001b[0ms\u001b[0m\u001b[1;33m,\u001b[0m \u001b[0mend\u001b[0m\u001b[1;33m)\u001b[0m\u001b[1;33m.\u001b[0m\u001b[0mend\u001b[0m\u001b[1;33m(\u001b[0m\u001b[1;33m)\u001b[0m\u001b[1;33m\u001b[0m\u001b[0m\n\u001b[0;32m    341\u001b[0m         \u001b[1;32mif\u001b[0m \u001b[0mend\u001b[0m \u001b[1;33m!=\u001b[0m \u001b[0mlen\u001b[0m\u001b[1;33m(\u001b[0m\u001b[0ms\u001b[0m\u001b[1;33m)\u001b[0m\u001b[1;33m:\u001b[0m\u001b[1;33m\u001b[0m\u001b[0m\n",
      "\u001b[1;32m~\\Anaconda3\\lib\\json\\decoder.py\u001b[0m in \u001b[0;36mraw_decode\u001b[1;34m(self, s, idx)\u001b[0m\n\u001b[0;32m    355\u001b[0m             \u001b[0mobj\u001b[0m\u001b[1;33m,\u001b[0m \u001b[0mend\u001b[0m \u001b[1;33m=\u001b[0m \u001b[0mself\u001b[0m\u001b[1;33m.\u001b[0m\u001b[0mscan_once\u001b[0m\u001b[1;33m(\u001b[0m\u001b[0ms\u001b[0m\u001b[1;33m,\u001b[0m \u001b[0midx\u001b[0m\u001b[1;33m)\u001b[0m\u001b[1;33m\u001b[0m\u001b[0m\n\u001b[0;32m    356\u001b[0m         \u001b[1;32mexcept\u001b[0m \u001b[0mStopIteration\u001b[0m \u001b[1;32mas\u001b[0m \u001b[0merr\u001b[0m\u001b[1;33m:\u001b[0m\u001b[1;33m\u001b[0m\u001b[0m\n\u001b[1;32m--> 357\u001b[1;33m             \u001b[1;32mraise\u001b[0m \u001b[0mJSONDecodeError\u001b[0m\u001b[1;33m(\u001b[0m\u001b[1;34m\"Expecting value\"\u001b[0m\u001b[1;33m,\u001b[0m \u001b[0ms\u001b[0m\u001b[1;33m,\u001b[0m \u001b[0merr\u001b[0m\u001b[1;33m.\u001b[0m\u001b[0mvalue\u001b[0m\u001b[1;33m)\u001b[0m \u001b[1;32mfrom\u001b[0m \u001b[1;32mNone\u001b[0m\u001b[1;33m\u001b[0m\u001b[0m\n\u001b[0m\u001b[0;32m    358\u001b[0m         \u001b[1;32mreturn\u001b[0m \u001b[0mobj\u001b[0m\u001b[1;33m,\u001b[0m \u001b[0mend\u001b[0m\u001b[1;33m\u001b[0m\u001b[0m\n",
      "\u001b[1;31mJSONDecodeError\u001b[0m: Expecting value: line 1 column 1 (char 0)"
     ]
    }
   ],
   "source": [
    "page = open(r'C:\\Users\\Student\\Documents\\laughing-dollop\\stations.json')\n",
    "parsed = json.loads(page.read())\n",
    "#for i in city:\n",
    "for item in parsed['Bangor']:\n",
    "       s.insert_one(item)"
   ]
  },
  {
   "cell_type": "code",
   "execution_count": 131,
   "metadata": {},
   "outputs": [
    {
     "name": "stdout",
     "output_type": "stream",
     "text": [
      "{'Common name': 'Bangor (Gwynedd) Rail Station', 'Address': 'Station Road', 'Longitude': '-4.1356956673', 'Latitude': '53.2230950293'}\n",
      "{'Common name': 'Morrisons', 'Address': 'Holyhead Road', 'Longitude': '-4.1348890524', 'Latitude': '53.225851617'}\n",
      "{'Common name': 'Lon-y-Felin', 'Address': 'Ffordd Castell', 'Longitude': '-4.1173768328', 'Latitude': '53.2246627463'}\n",
      "{'Common name': 'Bus Station', 'Address': 'Garth Road', 'Longitude': '-4.1261424911', 'Latitude': '53.2280219324'}\n",
      "{'Common name': 'Friars Terrace', 'Address': 'High Street', 'Longitude': '-4.1201086493', 'Latitude': '53.2293162212'}\n",
      "{'Common name': 'Bron Castell', 'Address': 'High Street', 'Longitude': '-4.1192510625', 'Latitude': '53.2295472534'}\n",
      "{'Common name': 'Ffordd Tegai', 'Address': 'Penrhyn Avenue', 'Longitude': '-4.1162921979', 'Latitude': '53.2236301249'}\n",
      "{'Common name': 'University', 'Address': 'College Road', 'Longitude': '-4.1313583461', 'Latitude': '53.2292683246'}\n",
      "{'Common name': 'Bangor (Gwynedd) Rail Station', 'Address': 'Station Road', 'Longitude': '-4.1354385409', 'Latitude': '53.2230456953'}\n",
      "{'Common name': 'Plaza', 'Address': 'High Street', 'Longitude': '-4.1328364816', 'Latitude': '53.2225348961'}\n",
      "{'Common name': 'Police Houses', 'Address': 'Penrhyn Avenue', 'Longitude': '-4.1166335966', 'Latitude': '53.222958758'}\n",
      "{'Common name': 'Bus Station', 'Address': 'Garth Road', 'Longitude': '-4.1262385389', 'Latitude': '53.2281460862'}\n",
      "{'Common name': 'Bangor (Gwynedd) Rail Station', 'Address': '-', 'Longitude': '-4.1358799319', 'Latitude': '53.2222825723'}\n",
      "{'Common name': 'Llys Tryfan', 'Address': 'Ffriddoedd Road', 'Longitude': '-4.1388736667', 'Latitude': '53.2252407055'}\n",
      "{'Common name': 'Maesgeirchen Circle West', 'Address': 'Penrhyn Avenue', 'Longitude': '-4.1157517762', 'Latitude': '53.2242151201'}\n",
      "{'Common name': 'Telephone Exchange', 'Address': 'Garth Road', 'Longitude': '-4.1262219574', 'Latitude': '53.2284160991'}\n",
      "{'Common name': 'Bangor (Gwynedd) Rail Station', 'Address': 'Station Road', 'Longitude': '-4.1356141242', 'Latitude': '53.2229616323'}\n",
      "{'Common name': 'Railway Station', 'Address': 'Deiniol Road', 'Longitude': '-4.1347556376', 'Latitude': '53.2234715025'}\n",
      "{'Common name': 'Nantygro', 'Address': 'Garth Road', 'Longitude': '-4.124797907', 'Latitude': '53.231426374'}\n",
      "{'Common name': 'Bus Station', 'Address': 'Garth Road', 'Longitude': '-4.1263689782', 'Latitude': '53.2283595316'}\n",
      "{'Common name': 'Euston Road', 'Address': 'Penchwintan Road', 'Longitude': '-4.1385952899', 'Latitude': '53.2208582929'}\n",
      "{'Common name': 'Canolfan Hamdden', 'Address': 'Ffriddoedd Road', 'Longitude': '-4.1403019915', 'Latitude': '53.2244418603'}\n",
      "{'Common name': 'Bron Derw Surgery', 'Address': 'Glynne Road', 'Longitude': '-4.1214284646', 'Latitude': '53.2299490366'}\n",
      "{'Common name': 'Orme Road', 'Address': 'Orme Road', 'Longitude': '-4.121209337', 'Latitude': '53.2312745503'}\n",
      "{'Common name': 'Ysgol Gynradd', 'Address': 'Caernarfon Road', 'Longitude': '-4.1355095271', 'Latitude': '53.2214620788'}\n",
      "{'Common name': 'Canolfan Bangor', 'Address': 'Garth Road', 'Longitude': '-4.1230107962', 'Latitude': '53.2334631287'}\n",
      "{'Common name': 'Nelson', 'Address': 'Beach Road', 'Longitude': '-4.1176876482', 'Latitude': '53.2321733241'}\n",
      "{'Common name': 'Police Houses', 'Address': 'Penrhyn Avenue', 'Longitude': '-4.1168127626', 'Latitude': '53.2229465838'}\n",
      "{'Common name': 'Look Out', 'Address': 'Holyhead Road', 'Longitude': '-4.1386812053', 'Latitude': '53.228291971'}\n",
      "{'Common name': 'Llys Tryfan', 'Address': 'Ffriddoedd Road', 'Longitude': '-4.1385738588', 'Latitude': '53.2252370975'}\n",
      "{'Common name': 'Nelson', 'Address': 'Beach Road', 'Longitude': '-4.1174318171', 'Latitude': '53.2321508997'}\n",
      "{'Common name': 'Bus Station', 'Address': 'Garth Road', 'Longitude': '-4.1264341983', 'Latitude': '53.2284662543'}\n",
      "{'Common name': 'Railway Station', 'Address': 'Station Road', 'Longitude': '-4.1354273833', 'Latitude': '53.2234235001'}\n",
      "{'Common name': 'The Play Centre', 'Address': 'High Street', 'Longitude': '-4.1202310701', 'Latitude': '53.2293679858'}\n",
      "{'Common name': 'Bus Station', 'Address': 'Garth Road', 'Longitude': '-4.1259512875', 'Latitude': '53.22779159'}\n",
      "{'Common name': 'Bron Derw Surgery', 'Address': 'Glynne Road', 'Longitude': '-4.1212941805', 'Latitude': '53.2299604184'}\n",
      "{'Common name': 'Maesgeirchen Circle West', 'Address': 'Penrhyn Avenue', 'Longitude': '-4.1156025404', 'Latitude': '53.2242267611'}\n",
      "{'Common name': 'Leisure Centre', 'Address': 'Ffriddoedd Road', 'Longitude': '-4.1400902032', 'Latitude': '53.2244007123'}\n",
      "{'Common name': 'Depot', 'Address': 'Beach Road', 'Longitude': '-4.1202997041', 'Latitude': '53.233484438'}\n",
      "{'Common name': 'West End', 'Address': 'Caernarfon Road', 'Longitude': '-4.1355649232', 'Latitude': '53.2213711797'}\n",
      "{'Common name': 'Ffordd Deiniol', 'Address': 'Deiniol Road', 'Longitude': '-4.1317039646', 'Latitude': '53.2253692204'}\n",
      "{'Common name': 'Nantygro', 'Address': 'Garth Road', 'Longitude': '-4.1248503828', 'Latitude': '53.2315782776'}\n",
      "{'Common name': 'Depot', 'Address': 'Beach Road', 'Longitude': '-4.1203059211', 'Latitude': '53.2336101951'}\n",
      "{'Common name': 'Canolfan Bangor', 'Address': 'Garth Road', 'Longitude': '-4.123275383', 'Latitude': '53.2333595174'}\n",
      "{'Common name': 'Bangor Uchaf', 'Address': 'Holyhead Road', 'Longitude': '-4.1348949166', 'Latitude': '53.2283778659'}\n",
      "{'Common name': 'Belle Vue Hotel', 'Address': 'Holyhead Road', 'Longitude': '-4.1343285444', 'Latitude': '53.2281362782'}\n",
      "{'Common name': 'Maes Isalaw', 'Address': 'High Street', 'Longitude': '-4.1163903697', 'Latitude': '53.2304791823'}\n",
      "{'Common name': 'Farrar Street', 'Address': 'Farrar Street', 'Longitude': '-4.1332499499', 'Latitude': '53.2239210332'}\n",
      "{'Common name': 'Bangor (Gwynedd) Rail Station', 'Address': 'Station Road', 'Longitude': '-4.1355942388', 'Latitude': '53.2228630923'}\n",
      "{'Common name': 'Ffordd Deiniol', 'Address': 'Deiniol Road', 'Longitude': '-4.1327930814', 'Latitude': '53.2246754324'}\n",
      "{'Common name': 'Penuel Church', 'Address': 'Garth Road', 'Longitude': '-4.1258344775', 'Latitude': '53.2299693916'}\n",
      "{'Common name': 'Penuel Church', 'Address': 'Garth Road', 'Longitude': '-4.1254749212', 'Latitude': '53.2302724957'}\n",
      "{'Common name': 'Morrisons', 'Address': 'Holyhead Road', 'Longitude': '-4.1350347117', 'Latitude': '53.2257680913'}\n",
      "{'Common name': 'Look Out', 'Address': 'Holyhead Road', 'Longitude': '-4.1390576715', 'Latitude': '53.2283301648'}\n",
      "{'Common name': 'Glyn House', 'Address': 'High Street', 'Longitude': '-4.1210504018', 'Latitude': '53.229272486'}\n",
      "{'Common name': 'Orme Road', 'Address': 'Orme Road', 'Longitude': '-4.1208611541', 'Latitude': '53.2315055132'}\n",
      "{'Common name': 'Railway Station', 'Address': 'Station Approach', 'Longitude': '-4.1356203837', 'Latitude': '53.2230873884'}\n",
      "{'Common name': 'Jewsons', 'Address': 'High Street', 'Longitude': '-4.117534194', 'Latitude': '53.2302790458'}\n",
      "{'Common name': 'Bus Station', 'Address': 'Garth Road', 'Longitude': '-4.126046889', 'Latitude': '53.2279067613'}\n",
      "{'Common name': 'Jewsons', 'Address': 'High Street', 'Longitude': '-4.117530203', 'Latitude': '53.2301982018'}\n",
      "{'Common name': 'Ffordd Tegai', 'Address': 'Penrhyn Avenue', 'Longitude': '-4.1161438504', 'Latitude': '53.2236597319'}\n",
      "{'Common name': 'Ysgol Glancegin', 'Address': 'Ffordd y Castell', 'Longitude': '-4.1165491133', 'Latitude': '53.2258012751'}\n",
      "{'Common name': 'Belle Vue Hotel', 'Address': 'College Road', 'Longitude': '-4.1337485499', 'Latitude': '53.2279219035'}\n"
     ]
    }
   ],
   "source": [
    "for i in parsed['Bangor']:\n",
    "    print(i)"
   ]
  },
  {
   "cell_type": "code",
   "execution_count": 127,
   "metadata": {},
   "outputs": [
    {
     "data": {
      "text/plain": [
       "['Bangor',\n",
       " 'Canterbury',\n",
       " 'Carlisle',\n",
       " 'Chelmsford',\n",
       " 'Coventry',\n",
       " 'Ely',\n",
       " 'Exeter',\n",
       " 'Gloucester',\n",
       " 'Hereford',\n",
       " 'Kingston upon Hull',\n",
       " 'Lichfield',\n",
       " 'Lincoln',\n",
       " 'Norwich',\n",
       " 'Preston',\n",
       " 'Ripon',\n",
       " 'St Asaph',\n",
       " \"St David's\",\n",
       " 'Swansea',\n",
       " 'Truro',\n",
       " 'Wells',\n",
       " 'Worcester']"
      ]
     },
     "execution_count": 127,
     "metadata": {},
     "output_type": "execute_result"
    }
   ],
   "source": [
    "city"
   ]
  },
  {
   "cell_type": "code",
   "execution_count": null,
   "metadata": {
    "collapsed": true
   },
   "outputs": [],
   "source": []
  }
 ],
 "metadata": {
  "kernelspec": {
   "display_name": "Python 3",
   "language": "python",
   "name": "python3"
  },
  "language_info": {
   "codemirror_mode": {
    "name": "ipython",
    "version": 3
   },
   "file_extension": ".py",
   "mimetype": "text/x-python",
   "name": "python",
   "nbconvert_exporter": "python",
   "pygments_lexer": "ipython3",
   "version": "3.6.3"
  }
 },
 "nbformat": 4,
 "nbformat_minor": 2
}
